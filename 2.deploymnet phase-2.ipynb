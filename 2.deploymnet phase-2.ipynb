{
 "cells": [
  {
   "cell_type": "code",
   "execution_count": 1,
   "metadata": {},
   "outputs": [],
   "source": [
    "# DEPLOYMENT PROCRESS - PHASE 2 FOR END USER RESULT\n",
    "import pickle"
   ]
  },
  {
   "cell_type": "code",
   "execution_count": 2,
   "metadata": {},
   "outputs": [],
   "source": [
    "# LOAD THE BEST MODEL FOR CALL TO ACTION \n",
    "loaded_model=pickle.load(open(\"finialized_model_Mult_linear.sav\",'rb'))"
   ]
  },
  {
   "cell_type": "code",
   "execution_count": 3,
   "metadata": {},
   "outputs": [
    {
     "name": "stdout",
     "output_type": "stream",
     "text": [
      "R&D:45039\n",
      "Administration:54365\n",
      "Marketing:45200\n",
      "State_Florida 0 or 1:0\n",
      "State_New York 0 or 1:0\n"
     ]
    },
    {
     "data": {
      "text/plain": [
       "array([[81066.04655787]])"
      ]
     },
     "execution_count": 3,
     "metadata": {},
     "output_type": "execute_result"
    }
   ],
   "source": [
    "#TO GET INPUT FROM USER \n",
    "RD_input=float(input(\"R&D:\"))\n",
    "Admin_input=float(input(\"Administration:\"))\n",
    "Mark_input=float(input(\"Marketing:\"))\n",
    "flor_input=int(input(\"State_Florida 0 or 1:\"))\n",
    "new_input=int(input(\"State_New York 0 or 1:\"))\n",
    "result=loaded_model.predict([[RD_input,Admin_input,Mark_input,flor_input,new_input]])\n",
    "result"
   ]
  },
  {
   "cell_type": "code",
   "execution_count": null,
   "metadata": {},
   "outputs": [],
   "source": []
  }
 ],
 "metadata": {
  "kernelspec": {
   "display_name": "Python 3",
   "language": "python",
   "name": "python3"
  },
  "language_info": {
   "codemirror_mode": {
    "name": "ipython",
    "version": 3
   },
   "file_extension": ".py",
   "mimetype": "text/x-python",
   "name": "python",
   "nbconvert_exporter": "python",
   "pygments_lexer": "ipython3",
   "version": "3.7.4"
  }
 },
 "nbformat": 4,
 "nbformat_minor": 2
}
